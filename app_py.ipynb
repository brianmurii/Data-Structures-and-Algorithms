{
  "nbformat": 4,
  "nbformat_minor": 0,
  "metadata": {
    "colab": {
      "provenance": [],
      "authorship_tag": "ABX9TyOOKym6QZHTG9sDi6ddvW0+",
      "include_colab_link": true
    },
    "kernelspec": {
      "name": "python3",
      "display_name": "Python 3"
    },
    "language_info": {
      "name": "python"
    }
  },
  "cells": [
    {
      "cell_type": "markdown",
      "metadata": {
        "id": "view-in-github",
        "colab_type": "text"
      },
      "source": [
        "<a href=\"https://colab.research.google.com/github/brianmurii/Data-Structures-and-Algorithms/blob/main/app_py.ipynb\" target=\"_parent\"><img src=\"https://colab.research.google.com/assets/colab-badge.svg\" alt=\"Open In Colab\"/></a>"
      ]
    },
    {
      "cell_type": "code",
      "execution_count": null,
      "metadata": {
        "id": "7xcps9IoyI4R"
      },
      "outputs": [],
      "source": [
        "from flask import Flask, request, render_template\n",
        "import pandas as pd\n",
        "import joblib\n",
        "\n",
        "\n",
        "# Declare a Flask app\n",
        "app = Flask(__name__)\n",
        "\n",
        "@app.route('/', methods=['GET', 'POST'])\n",
        "def main():\n",
        "    \n",
        "    # If a form is submitted\n",
        "    if request.method == \"POST\":\n",
        "        \n",
        "        # Unpickle classifier\n",
        "        model = joblib.load(\"model.pkl\")\n",
        "        \n",
        "        # Get values through input bars\n",
        "        text = request.form.get(\"text\")\n",
        "      \n",
        "        \n",
        "        # Put inputs to dataframe\n",
        "        X = pd.DataFrame([[text]], columns = [\"Text\"])\n",
        "        \n",
        "        # Get prediction\n",
        "        prediction = model.predict(X)[0]\n",
        "        \n",
        "    else:\n",
        "        prediction = \"\"\n",
        "        \n",
        "    return render_template(\"website.html\", output = prediction)\n",
        "\n",
        "# Running the app\n",
        "if __name__ == '__main__':\n",
        "    app.run(debug = True)"
      ]
    },
    {
      "cell_type": "code",
      "source": [
        "render_template(\"file.HTML\", text = text)"
      ],
      "metadata": {
        "id": "Yr4dEmgczWfC"
      },
      "execution_count": null,
      "outputs": []
    }
  ]
}