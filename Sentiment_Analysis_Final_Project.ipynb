{
  "nbformat": 4,
  "nbformat_minor": 0,
  "metadata": {
    "colab": {
      "provenance": [],
      "authorship_tag": "ABX9TyM9ijy8EQ55MTjuNV8NMzCD",
      "include_colab_link": true
    },
    "kernelspec": {
      "name": "python3",
      "display_name": "Python 3"
    },
    "language_info": {
      "name": "python"
    }
  },
  "cells": [
    {
      "cell_type": "markdown",
      "metadata": {
        "id": "view-in-github",
        "colab_type": "text"
      },
      "source": [
        "<a href=\"https://colab.research.google.com/github/brianmurii/Data-Structures-and-Algorithms/blob/main/Sentiment_Analysis_Final_Project.ipynb\" target=\"_parent\"><img src=\"https://colab.research.google.com/assets/colab-badge.svg\" alt=\"Open In Colab\"/></a>"
      ]
    },
    {
      "cell_type": "markdown",
      "source": [
        "***\n",
        "### ***Sentiment Analysis using a Convolutional Neural Network***\n"
      ],
      "metadata": {
        "id": "uiD9-teX35Rn"
      }
    },
    {
      "cell_type": "markdown",
      "source": [
        "1. Importing all the required libraries\n",
        "\n"
      ],
      "metadata": {
        "id": "3mJz3jiQ4zKs"
      }
    },
    {
      "cell_type": "code",
      "source": [
        "import pandas as pd\n",
        "import numpy as np\n",
        "from nltk.tokenize import word_tokenize\n",
        "import re\n",
        "import matplotlib.pyplot as plt\n",
        "from sklearn.metrics import accuracy_score, f1_score, confusion_matrix\n",
        "from keras.preprocessing.text import Tokenizer\n",
        "from keras_preprocessing.sequence import pad_sequences\n",
        "from keras.utils import to_categorical\n",
        "from keras.models import Sequential\n",
        "from keras.layers import Embedding, Conv1D, GlobalMaxPooling1D, Dense"
      ],
      "metadata": {
        "id": "eJS6NzRF5F4X"
      },
      "execution_count": null,
      "outputs": []
    },
    {
      "cell_type": "code",
      "source": [
        "# Setting class names(various sentiments), sequence lengths and classes\n",
        "\n",
        "sentiment_classes = ['joy', 'fear', 'anger', 'sadness', 'neutral']\n",
        "num_classes = 5\n",
        "embedded_num_dims = 300\n",
        "max_seq_len = 500"
      ],
      "metadata": {
        "id": "Pc6Xfkn25HaP"
      },
      "execution_count": null,
      "outputs": []
    },
    {
      "cell_type": "markdown",
      "source": [
        "2. Data Preprocessing"
      ],
      "metadata": {
        "id": "TY5Y-A4R51TG"
      }
    },
    {
      "cell_type": "code",
      "source": [
        "# Reading the dataset\n",
        "\n",
        "data_train = pd.read_csv('data_train.csv', encoding='utf-8')\n",
        "data_test = pd.read_csv('data_test.csv', encoding='utf-8')\n",
        "#UTF-8 takes the code point for a given Unicode character and translates it into a string of binary\n",
        "\n",
        "X_train = data_train['Text'] #corresponding to column 'Text', same for the rest.\n",
        "X_test = data_test['Text']\n",
        "\n",
        "y_train = data_train['Emotion']\n",
        "y_test = data_test['Emotion']\n",
        "\n",
        "data = data_train.append(data_test, ignore_index=True) \n",
        "#columns in 'data_test' that are not in 'data_train' are added as new columns"
      ],
      "metadata": {
        "id": "WpVWFHGn5-3w"
      },
      "execution_count": null,
      "outputs": []
    },
    {
      "cell_type": "code",
      "source": [
        "#Small view of the dataset\n",
        "print(data['Emotion'].value_counts())\n",
        "#Returns unique rows\n",
        "data.head(10)"
      ],
      "metadata": {
        "colab": {
          "base_uri": "https://localhost:8080/",
          "height": 467
        },
        "id": "74HGr5obpYHd",
        "outputId": "628524b9-77bb-4c29-8d2d-ca504d3e431d"
      },
      "execution_count": null,
      "outputs": [
        {
          "output_type": "stream",
          "name": "stdout",
          "text": [
            "joy        2326\n",
            "sadness    2317\n",
            "anger      2259\n",
            "neutral    2254\n",
            "fear       2171\n",
            "Name: Emotion, dtype: int64\n"
          ]
        },
        {
          "output_type": "execute_result",
          "data": {
            "text/plain": [
              "   Emotion                                               Text\n",
              "0  neutral   There are tons of other paintings that I thin...\n",
              "1  sadness  Yet the dog had grown old and less capable , a...\n",
              "2     fear  When I get into the tube or the train without ...\n",
              "3     fear  This last may be a source of considerable disq...\n",
              "4    anger  She disliked the intimacy he showed towards so...\n",
              "5  sadness  When my family heard that my Mother's cousin w...\n",
              "6      joy  Finding out I am chosen to collect norms for C...\n",
              "7    anger  A spokesperson said : ` Glen is furious that t...\n",
              "8  neutral                                             Yes . \n",
              "9  sadness  When I see people with burns I feel sad, actua..."
            ],
            "text/html": [
              "\n",
              "  <div id=\"df-77fb392d-be9d-47bb-9d15-8ae4ec214822\">\n",
              "    <div class=\"colab-df-container\">\n",
              "      <div>\n",
              "<style scoped>\n",
              "    .dataframe tbody tr th:only-of-type {\n",
              "        vertical-align: middle;\n",
              "    }\n",
              "\n",
              "    .dataframe tbody tr th {\n",
              "        vertical-align: top;\n",
              "    }\n",
              "\n",
              "    .dataframe thead th {\n",
              "        text-align: right;\n",
              "    }\n",
              "</style>\n",
              "<table border=\"1\" class=\"dataframe\">\n",
              "  <thead>\n",
              "    <tr style=\"text-align: right;\">\n",
              "      <th></th>\n",
              "      <th>Emotion</th>\n",
              "      <th>Text</th>\n",
              "    </tr>\n",
              "  </thead>\n",
              "  <tbody>\n",
              "    <tr>\n",
              "      <th>0</th>\n",
              "      <td>neutral</td>\n",
              "      <td>There are tons of other paintings that I thin...</td>\n",
              "    </tr>\n",
              "    <tr>\n",
              "      <th>1</th>\n",
              "      <td>sadness</td>\n",
              "      <td>Yet the dog had grown old and less capable , a...</td>\n",
              "    </tr>\n",
              "    <tr>\n",
              "      <th>2</th>\n",
              "      <td>fear</td>\n",
              "      <td>When I get into the tube or the train without ...</td>\n",
              "    </tr>\n",
              "    <tr>\n",
              "      <th>3</th>\n",
              "      <td>fear</td>\n",
              "      <td>This last may be a source of considerable disq...</td>\n",
              "    </tr>\n",
              "    <tr>\n",
              "      <th>4</th>\n",
              "      <td>anger</td>\n",
              "      <td>She disliked the intimacy he showed towards so...</td>\n",
              "    </tr>\n",
              "    <tr>\n",
              "      <th>5</th>\n",
              "      <td>sadness</td>\n",
              "      <td>When my family heard that my Mother's cousin w...</td>\n",
              "    </tr>\n",
              "    <tr>\n",
              "      <th>6</th>\n",
              "      <td>joy</td>\n",
              "      <td>Finding out I am chosen to collect norms for C...</td>\n",
              "    </tr>\n",
              "    <tr>\n",
              "      <th>7</th>\n",
              "      <td>anger</td>\n",
              "      <td>A spokesperson said : ` Glen is furious that t...</td>\n",
              "    </tr>\n",
              "    <tr>\n",
              "      <th>8</th>\n",
              "      <td>neutral</td>\n",
              "      <td>Yes .</td>\n",
              "    </tr>\n",
              "    <tr>\n",
              "      <th>9</th>\n",
              "      <td>sadness</td>\n",
              "      <td>When I see people with burns I feel sad, actua...</td>\n",
              "    </tr>\n",
              "  </tbody>\n",
              "</table>\n",
              "</div>\n",
              "      <button class=\"colab-df-convert\" onclick=\"convertToInteractive('df-77fb392d-be9d-47bb-9d15-8ae4ec214822')\"\n",
              "              title=\"Convert this dataframe to an interactive table.\"\n",
              "              style=\"display:none;\">\n",
              "        \n",
              "  <svg xmlns=\"http://www.w3.org/2000/svg\" height=\"24px\"viewBox=\"0 0 24 24\"\n",
              "       width=\"24px\">\n",
              "    <path d=\"M0 0h24v24H0V0z\" fill=\"none\"/>\n",
              "    <path d=\"M18.56 5.44l.94 2.06.94-2.06 2.06-.94-2.06-.94-.94-2.06-.94 2.06-2.06.94zm-11 1L8.5 8.5l.94-2.06 2.06-.94-2.06-.94L8.5 2.5l-.94 2.06-2.06.94zm10 10l.94 2.06.94-2.06 2.06-.94-2.06-.94-.94-2.06-.94 2.06-2.06.94z\"/><path d=\"M17.41 7.96l-1.37-1.37c-.4-.4-.92-.59-1.43-.59-.52 0-1.04.2-1.43.59L10.3 9.45l-7.72 7.72c-.78.78-.78 2.05 0 2.83L4 21.41c.39.39.9.59 1.41.59.51 0 1.02-.2 1.41-.59l7.78-7.78 2.81-2.81c.8-.78.8-2.07 0-2.86zM5.41 20L4 18.59l7.72-7.72 1.47 1.35L5.41 20z\"/>\n",
              "  </svg>\n",
              "      </button>\n",
              "      \n",
              "  <style>\n",
              "    .colab-df-container {\n",
              "      display:flex;\n",
              "      flex-wrap:wrap;\n",
              "      gap: 12px;\n",
              "    }\n",
              "\n",
              "    .colab-df-convert {\n",
              "      background-color: #E8F0FE;\n",
              "      border: none;\n",
              "      border-radius: 50%;\n",
              "      cursor: pointer;\n",
              "      display: none;\n",
              "      fill: #1967D2;\n",
              "      height: 32px;\n",
              "      padding: 0 0 0 0;\n",
              "      width: 32px;\n",
              "    }\n",
              "\n",
              "    .colab-df-convert:hover {\n",
              "      background-color: #E2EBFA;\n",
              "      box-shadow: 0px 1px 2px rgba(60, 64, 67, 0.3), 0px 1px 3px 1px rgba(60, 64, 67, 0.15);\n",
              "      fill: #174EA6;\n",
              "    }\n",
              "\n",
              "    [theme=dark] .colab-df-convert {\n",
              "      background-color: #3B4455;\n",
              "      fill: #D2E3FC;\n",
              "    }\n",
              "\n",
              "    [theme=dark] .colab-df-convert:hover {\n",
              "      background-color: #434B5C;\n",
              "      box-shadow: 0px 1px 3px 1px rgba(0, 0, 0, 0.15);\n",
              "      filter: drop-shadow(0px 1px 2px rgba(0, 0, 0, 0.3));\n",
              "      fill: #FFFFFF;\n",
              "    }\n",
              "  </style>\n",
              "\n",
              "      <script>\n",
              "        const buttonEl =\n",
              "          document.querySelector('#df-77fb392d-be9d-47bb-9d15-8ae4ec214822 button.colab-df-convert');\n",
              "        buttonEl.style.display =\n",
              "          google.colab.kernel.accessAllowed ? 'block' : 'none';\n",
              "\n",
              "        async function convertToInteractive(key) {\n",
              "          const element = document.querySelector('#df-77fb392d-be9d-47bb-9d15-8ae4ec214822');\n",
              "          const dataTable =\n",
              "            await google.colab.kernel.invokeFunction('convertToInteractive',\n",
              "                                                     [key], {});\n",
              "          if (!dataTable) return;\n",
              "\n",
              "          const docLinkHtml = 'Like what you see? Visit the ' +\n",
              "            '<a target=\"_blank\" href=https://colab.research.google.com/notebooks/data_table.ipynb>data table notebook</a>'\n",
              "            + ' to learn more about interactive tables.';\n",
              "          element.innerHTML = '';\n",
              "          dataTable['output_type'] = 'display_data';\n",
              "          await google.colab.output.renderOutput(dataTable, element);\n",
              "          const docLink = document.createElement('div');\n",
              "          docLink.innerHTML = docLinkHtml;\n",
              "          element.appendChild(docLink);\n",
              "        }\n",
              "      </script>\n",
              "    </div>\n",
              "  </div>\n",
              "  "
            ]
          },
          "metadata": {},
          "execution_count": 4
        }
      ]
    },
    {
      "cell_type": "code",
      "source": [
        "# cleaning text using nltk.word_tokenize\n",
        "def clean_text(data):\n",
        "    \n",
        "    data = re.sub(r\"(#[\\d\\w\\.]+)\", '', data)\n",
        "    data = re.sub(r\"(@[\\d\\w\\.]+)\", '', data)\n",
        "    \n",
        "    data = word_tokenize(data)\n",
        "    \n",
        "    return data"
      ],
      "metadata": {
        "id": "r3qsUfJlpdNh"
      },
      "execution_count": null,
      "outputs": []
    },
    {
      "cell_type": "code",
      "source": [
        "import nltk\n",
        "nltk.download('punkt')\n",
        "texts = [' '.join(clean_text(text)) for text in data.Text]\n",
        "\n",
        "texts_train = [' '.join(clean_text(text)) for text in X_train]\n",
        "texts_test = [' '.join(clean_text(text)) for text in X_test]"
      ],
      "metadata": {
        "colab": {
          "base_uri": "https://localhost:8080/"
        },
        "id": "mUHu7ZtBpg2p",
        "outputId": "dbf4904c-a8cd-4c1f-f9af-8f306e3d5b7b"
      },
      "execution_count": null,
      "outputs": [
        {
          "output_type": "stream",
          "name": "stderr",
          "text": [
            "[nltk_data] Downloading package punkt to /root/nltk_data...\n",
            "[nltk_data]   Unzipping tokenizers/punkt.zip.\n"
          ]
        }
      ]
    },
    {
      "cell_type": "code",
      "source": [
        "tokenizer = Tokenizer()\n",
        "tokenizer.fit_on_texts(texts)\n",
        "# Updates internal vocabulary based on a list of texts;  creates the vocabulary index based on word frequency\n",
        "\n",
        "sequence_train = tokenizer.texts_to_sequences(texts_train)\n",
        "sequence_test = tokenizer.texts_to_sequences(texts_test)\n",
        "#Transforms each text in texts to a sequence of integers\n",
        "\n",
        "index_of_words = tokenizer.word_index\n",
        "\n",
        "# vacab size is number of unique words + reserved 0 index for padding\n",
        "vocab_size = len(index_of_words) + 1\n",
        "\n",
        "print(' The number of unique words are : {}'.format(len(index_of_words)))"
      ],
      "metadata": {
        "colab": {
          "base_uri": "https://localhost:8080/"
        },
        "id": "QUUqR1t4pi0g",
        "outputId": "7fccd2a4-7011-4138-daac-18d54565479d"
      },
      "execution_count": null,
      "outputs": [
        {
          "output_type": "stream",
          "name": "stdout",
          "text": [
            " The number of unique words are : 12087\n"
          ]
        }
      ]
    },
    {
      "cell_type": "code",
      "source": [
        "#Ensuring all sequences have the same length\n",
        "X_train_pad = pad_sequences(sequence_train, maxlen = max_seq_len )\n",
        "X_test_pad = pad_sequences(sequence_test, maxlen = max_seq_len )\n",
        "\n",
        "X_train_pad"
      ],
      "metadata": {
        "colab": {
          "base_uri": "https://localhost:8080/"
        },
        "id": "obrL0pZmpnhu",
        "outputId": "caacf905-f91b-469b-ae55-28f3c42a98a3"
      },
      "execution_count": null,
      "outputs": [
        {
          "output_type": "execute_result",
          "data": {
            "text/plain": [
              "array([[    0,     0,     0, ...,   119,    51,   345],\n",
              "       [    0,     0,     0, ...,    37,   277,   154],\n",
              "       [    0,     0,     0, ...,    16,     2,  1210],\n",
              "       ...,\n",
              "       [    0,     0,     0, ...,   876,     4,   909],\n",
              "       [    0,     0,     0, ...,     1,     6,   117],\n",
              "       [    0,     0,     0, ..., 10258,   173,    13]], dtype=int32)"
            ]
          },
          "metadata": {},
          "execution_count": 8
        }
      ]
    },
    {
      "cell_type": "code",
      "source": [
        "encoding = {\n",
        "    'joy': 0,\n",
        "    'fear': 1,\n",
        "    'anger': 2,\n",
        "    'sadness': 3,\n",
        "    'neutral': 4\n",
        "}\n",
        "\n",
        "# Integer labels\n",
        "y_train = [encoding[x] for x in data_train.Emotion]\n",
        "y_test = [encoding[x] for x in data_test.Emotion]"
      ],
      "metadata": {
        "id": "pGkSPCCrpqLE"
      },
      "execution_count": null,
      "outputs": []
    },
    {
      "cell_type": "code",
      "source": [
        "#Converting vectors to arrays\n",
        "y_train = to_categorical(y_train)\n",
        "y_test = to_categorical(y_test)\n",
        "\n",
        "y_train"
      ],
      "metadata": {
        "colab": {
          "base_uri": "https://localhost:8080/"
        },
        "id": "13SWWFYmpshE",
        "outputId": "0956c785-b782-4578-b026-4666e4ac8547"
      },
      "execution_count": null,
      "outputs": [
        {
          "output_type": "execute_result",
          "data": {
            "text/plain": [
              "array([[0., 0., 0., 0., 1.],\n",
              "       [0., 0., 0., 1., 0.],\n",
              "       [0., 1., 0., 0., 0.],\n",
              "       ...,\n",
              "       [0., 0., 0., 1., 0.],\n",
              "       [0., 1., 0., 0., 0.],\n",
              "       [0., 0., 1., 0., 0.]], dtype=float32)"
            ]
          },
          "metadata": {},
          "execution_count": 10
        }
      ]
    },
    {
      "cell_type": "code",
      "source": [
        "# Embedding Matrix\n",
        "\n",
        "def create_embedding_matrix(filepath, word_index, embedding_dim):\n",
        "    vocab_size = len(word_index) + 1  # Adding again 1 because of reserved 0 index\n",
        "    embedding_matrix = np.zeros((vocab_size, embedding_dim))\n",
        "    # np.zeros returns a new array, filled with zeros\n",
        "    with open(filepath, encoding = \"utf8\") as f:\n",
        "        for line in f:\n",
        "            word, *vector = line.split()\n",
        "            if word in word_index:\n",
        "                idx = word_index[word] \n",
        "                embedding_matrix[idx] = np.array(\n",
        "                    vector, dtype=np.float32)[:embedding_dim]\n",
        "    return embedding_matrix"
      ],
      "metadata": {
        "id": "5WR9qpWYptWi"
      },
      "execution_count": null,
      "outputs": []
    },
    {
      "cell_type": "code",
      "source": [
        "import urllib.request\n",
        "import zipfile\n",
        "import os\n",
        "\n",
        "fname = 'embeddings/wiki-news-300d-1M.vec'\n",
        "\n",
        "if not os.path.isfile(fname):\n",
        "    print('Downloading word vectors...')\n",
        "    urllib.request.urlretrieve('https://dl.fbaipublicfiles.com/fasttext/vectors-english/wiki-news-300d-1M.vec.zip',\n",
        "                              'wiki-news-300d-1M.vec.zip')\n",
        "    print('Unzipping...')\n",
        "    with zipfile.ZipFile('wiki-news-300d-1M.vec.zip', 'r') as zip_ref:\n",
        "        zip_ref.extractall('embeddings')\n",
        "    print('done.')\n",
        "    \n",
        "    os.remove('wiki-news-300d-1M.vec.zip')"
      ],
      "metadata": {
        "colab": {
          "base_uri": "https://localhost:8080/"
        },
        "id": "njoMMthIpzSS",
        "outputId": "8e03f164-0378-4f63-aa0e-e100f39b6abf"
      },
      "execution_count": null,
      "outputs": [
        {
          "output_type": "stream",
          "name": "stdout",
          "text": [
            "Downloading word vectors...\n",
            "Unzipping...\n",
            "done.\n"
          ]
        }
      ]
    },
    {
      "cell_type": "code",
      "source": [
        "embedd_matrix = create_embedding_matrix(fname, index_of_words, embedded_num_dims)\n",
        "embedd_matrix.shape"
      ],
      "metadata": {
        "colab": {
          "base_uri": "https://localhost:8080/"
        },
        "id": "wmxQ5qZzp15w",
        "outputId": "27f531ac-e6ee-4037-d5af-04c77f66537c"
      },
      "execution_count": null,
      "outputs": [
        {
          "output_type": "execute_result",
          "data": {
            "text/plain": [
              "(12088, 300)"
            ]
          },
          "metadata": {},
          "execution_count": 13
        }
      ]
    },
    {
      "cell_type": "code",
      "source": [],
      "metadata": {
        "id": "iQDlU7_hQ0u5"
      },
      "execution_count": null,
      "outputs": []
    },
    {
      "cell_type": "code",
      "source": [
        "embedd_layer = Embedding(vocab_size,\n",
        "                         embedded_num_dims,\n",
        "                         input_length = max_seq_len,\n",
        "                         weights = [embedd_matrix],\n",
        "                         trainable=False)"
      ],
      "metadata": {
        "id": "KFGSnLNKp436"
      },
      "execution_count": null,
      "outputs": []
    },
    {
      "cell_type": "code",
      "source": [
        "kernel_size = 2\n",
        "filters = 256\n",
        "\n",
        "model = Sequential()\n",
        "model.add(embedd_layer)\n",
        "model.add(Conv1D(filters, kernel_size, activation = 'relu'))\n",
        "model.add(GlobalMaxPooling1D())\n",
        "model.add(Dense(256, activation='relu'))\n",
        "model.add(Dense(num_classes, activation='softmax'))\n",
        "#creating a sequential model incrementally"
      ],
      "metadata": {
        "id": "txLV9rllqAl6"
      },
      "execution_count": null,
      "outputs": []
    },
    {
      "cell_type": "code",
      "source": [
        "model.compile(loss = 'categorical_crossentropy', optimizer = 'adam', metrics = ['accuracy'])\n",
        "model.summary()"
      ],
      "metadata": {
        "colab": {
          "base_uri": "https://localhost:8080/"
        },
        "id": "kNnZQKH9qDxE",
        "outputId": "687dd709-c56a-40ff-c8a1-fee00c5d99c7"
      },
      "execution_count": null,
      "outputs": [
        {
          "output_type": "stream",
          "name": "stdout",
          "text": [
            "Model: \"sequential\"\n",
            "_________________________________________________________________\n",
            " Layer (type)                Output Shape              Param #   \n",
            "=================================================================\n",
            " embedding (Embedding)       (None, 500, 300)          3626400   \n",
            "                                                                 \n",
            " conv1d (Conv1D)             (None, 499, 256)          153856    \n",
            "                                                                 \n",
            " global_max_pooling1d (Globa  (None, 256)              0         \n",
            " lMaxPooling1D)                                                  \n",
            "                                                                 \n",
            " dense (Dense)               (None, 256)               65792     \n",
            "                                                                 \n",
            " dense_1 (Dense)             (None, 5)                 1285      \n",
            "                                                                 \n",
            "=================================================================\n",
            "Total params: 3,847,333\n",
            "Trainable params: 220,933\n",
            "Non-trainable params: 3,626,400\n",
            "_________________________________________________________________\n"
          ]
        }
      ]
    },
    {
      "cell_type": "code",
      "source": [
        "batch_size = 256\n",
        "epochs = 30\n",
        "\n",
        "hist = model.fit(X_train_pad, y_train, \n",
        "                 batch_size=batch_size,\n",
        "                 epochs=epochs,\n",
        "                 validation_data=(X_test_pad,y_test))"
      ],
      "metadata": {
        "colab": {
          "base_uri": "https://localhost:8080/"
        },
        "id": "daTwPyUaqGeq",
        "outputId": "907f2170-5b45-4979-fba5-86901fd01351"
      },
      "execution_count": null,
      "outputs": [
        {
          "output_type": "stream",
          "name": "stdout",
          "text": [
            "Epoch 1/30\n",
            "31/31 [==============================] - 75s 2s/step - loss: 1.4077 - accuracy: 0.4287 - val_loss: 1.1673 - val_accuracy: 0.6116\n",
            "Epoch 2/30\n",
            "31/31 [==============================] - 85s 3s/step - loss: 0.9010 - accuracy: 0.6969 - val_loss: 0.8121 - val_accuracy: 0.7038\n",
            "Epoch 3/30\n",
            "31/31 [==============================] - 69s 2s/step - loss: 0.6627 - accuracy: 0.7637 - val_loss: 0.7566 - val_accuracy: 0.7342\n",
            "Epoch 4/30\n",
            "31/31 [==============================] - 69s 2s/step - loss: 0.5518 - accuracy: 0.8148 - val_loss: 0.7160 - val_accuracy: 0.7489\n",
            "Epoch 5/30\n",
            "31/31 [==============================] - 67s 2s/step - loss: 0.4574 - accuracy: 0.8534 - val_loss: 0.6998 - val_accuracy: 0.7510\n",
            "Epoch 6/30\n",
            "31/31 [==============================] - 69s 2s/step - loss: 0.3880 - accuracy: 0.8801 - val_loss: 0.7045 - val_accuracy: 0.7507\n",
            "Epoch 7/30\n",
            "31/31 [==============================] - 69s 2s/step - loss: 0.3073 - accuracy: 0.9181 - val_loss: 0.6926 - val_accuracy: 0.7554\n",
            "Epoch 8/30\n",
            "31/31 [==============================] - 68s 2s/step - loss: 0.2448 - accuracy: 0.9399 - val_loss: 0.7120 - val_accuracy: 0.7557\n",
            "Epoch 9/30\n",
            "31/31 [==============================] - 68s 2s/step - loss: 0.1918 - accuracy: 0.9598 - val_loss: 0.7231 - val_accuracy: 0.7586\n",
            "Epoch 10/30\n",
            "31/31 [==============================] - 69s 2s/step - loss: 0.1479 - accuracy: 0.9732 - val_loss: 0.7519 - val_accuracy: 0.7583\n",
            "Epoch 11/30\n",
            "31/31 [==============================] - 71s 2s/step - loss: 0.1194 - accuracy: 0.9797 - val_loss: 0.7575 - val_accuracy: 0.7569\n",
            "Epoch 12/30\n",
            "31/31 [==============================] - 68s 2s/step - loss: 0.0913 - accuracy: 0.9875 - val_loss: 0.7738 - val_accuracy: 0.7589\n",
            "Epoch 13/30\n",
            "31/31 [==============================] - 67s 2s/step - loss: 0.0722 - accuracy: 0.9898 - val_loss: 0.7921 - val_accuracy: 0.7625\n",
            "Epoch 14/30\n",
            "31/31 [==============================] - 68s 2s/step - loss: 0.0585 - accuracy: 0.9918 - val_loss: 0.8218 - val_accuracy: 0.7592\n",
            "Epoch 15/30\n",
            "31/31 [==============================] - 71s 2s/step - loss: 0.0523 - accuracy: 0.9914 - val_loss: 0.8319 - val_accuracy: 0.7577\n",
            "Epoch 16/30\n",
            "31/31 [==============================] - 68s 2s/step - loss: 0.0469 - accuracy: 0.9928 - val_loss: 0.8696 - val_accuracy: 0.7542\n",
            "Epoch 17/30\n",
            "31/31 [==============================] - 68s 2s/step - loss: 0.0406 - accuracy: 0.9927 - val_loss: 0.8700 - val_accuracy: 0.7586\n",
            "Epoch 18/30\n",
            "31/31 [==============================] - 69s 2s/step - loss: 0.0361 - accuracy: 0.9940 - val_loss: 0.8891 - val_accuracy: 0.7580\n",
            "Epoch 19/30\n",
            "31/31 [==============================] - 69s 2s/step - loss: 0.0341 - accuracy: 0.9933 - val_loss: 0.9077 - val_accuracy: 0.7577\n",
            "Epoch 20/30\n",
            "31/31 [==============================] - 69s 2s/step - loss: 0.0311 - accuracy: 0.9940 - val_loss: 0.9352 - val_accuracy: 0.7557\n",
            "Epoch 21/30\n",
            "31/31 [==============================] - 68s 2s/step - loss: 0.0301 - accuracy: 0.9937 - val_loss: 0.9334 - val_accuracy: 0.7598\n",
            "Epoch 22/30\n",
            "31/31 [==============================] - 70s 2s/step - loss: 0.0306 - accuracy: 0.9932 - val_loss: 0.9493 - val_accuracy: 0.7601\n",
            "Epoch 23/30\n",
            "31/31 [==============================] - 69s 2s/step - loss: 0.0291 - accuracy: 0.9940 - val_loss: 0.9637 - val_accuracy: 0.7627\n",
            "Epoch 24/30\n",
            "31/31 [==============================] - 71s 2s/step - loss: 0.0273 - accuracy: 0.9936 - val_loss: 0.9662 - val_accuracy: 0.7542\n",
            "Epoch 25/30\n",
            "31/31 [==============================] - 71s 2s/step - loss: 0.0284 - accuracy: 0.9936 - val_loss: 1.0061 - val_accuracy: 0.7539\n",
            "Epoch 26/30\n",
            "31/31 [==============================] - 71s 2s/step - loss: 0.0327 - accuracy: 0.9931 - val_loss: 0.9959 - val_accuracy: 0.7571\n",
            "Epoch 27/30\n",
            "31/31 [==============================] - 69s 2s/step - loss: 0.0271 - accuracy: 0.9936 - val_loss: 1.0133 - val_accuracy: 0.7577\n",
            "Epoch 28/30\n",
            "31/31 [==============================] - 69s 2s/step - loss: 0.0275 - accuracy: 0.9936 - val_loss: 1.0414 - val_accuracy: 0.7501\n",
            "Epoch 29/30\n",
            "31/31 [==============================] - 69s 2s/step - loss: 0.0270 - accuracy: 0.9945 - val_loss: 1.0353 - val_accuracy: 0.7577\n",
            "Epoch 30/30\n",
            "31/31 [==============================] - 70s 2s/step - loss: 0.0290 - accuracy: 0.9923 - val_loss: 1.0482 - val_accuracy: 0.7607\n"
          ]
        }
      ]
    },
    {
      "cell_type": "code",
      "source": [
        "plt.plot(hist.history['accuracy'])\n",
        "plt.plot(hist.history['val_accuracy'])\n",
        "plt.title('model accuracy')\n",
        "plt.ylabel('accuracy')\n",
        "plt.xlabel('epoch')\n",
        "plt.legend(['train', 'validation'], loc='upper left')\n",
        "plt.show()\n",
        "\n",
        "# Loss plot\n",
        "plt.plot(hist.history['loss'])\n",
        "plt.plot(hist.history['val_loss'])\n",
        "plt.title('model loss')\n",
        "plt.ylabel('loss')\n",
        "plt.xlabel('epoch')\n",
        "plt.legend(['train', 'validation'], loc='upper left')\n",
        "plt.show()"
      ],
      "metadata": {
        "colab": {
          "base_uri": "https://localhost:8080/",
          "height": 573
        },
        "id": "oTPB5-dmqKf0",
        "outputId": "f6b7602d-ee6e-42da-dd82-2ba23e9d4633"
      },
      "execution_count": null,
      "outputs": [
        {
          "output_type": "display_data",
          "data": {
            "text/plain": [
              "<Figure size 432x288 with 1 Axes>"
            ],
            "image/png": "[encoded data removed]"
          },
          "metadata": {
            "needs_background": "light"
          }
        },
        {
          "output_type": "display_data",
          "data": {
            "text/plain": [
              "<Figure size 432x288 with 1 Axes>"
            ],
            "image/png": "[encoded data removed]"
          },
          "metadata": {
            "needs_background": "light"
          }
        }
      ]
    },
    {
      "cell_type": "code",
      "source": [
        "predictions = model.predict(X_test_pad)\n",
        "predictions = np.argmax(predictions, axis=1)\n",
        "predictions = [sentiment_classes[pred] for pred in predictions]\n",
        "print(\"predictions:\", predictions)\n",
        "correct_predictions= np.nonzero(predictions == X_train_pad)[0]\n",
        "incorrect_predictions = np.nonzero(predictions != X_train_pad)[0]\n",
        "print(len(correct_predictions),\"Classified correctly\")\n",
        "print(len(incorrect_predictions),\"Classified incorrectly\")"
      ],
      "metadata": {
        "colab": {
          "base_uri": "https://localhost:8080/"
        },
        "id": "GVWcOzSuqNZx",
        "outputId": "a714116f-b9f2-415a-e122-f812a3488d81"
      },
      "execution_count": null,
      "outputs": [
        {
          "output_type": "stream",
          "name": "stdout",
          "text": [
            "107/107 [==============================] - 11s 101ms/step\n",
            "predictions: ['sadness', 'anger', 'anger', 'fear', 'sadness', 'neutral', 'anger', 'anger', 'neutral', 'sadness', 'neutral', 'neutral', 'fear', 'anger', 'anger', 'sadness', 'sadness', 'neutral', 'joy', 'anger', 'joy', 'fear', 'joy', 'anger', 'joy', 'fear', 'neutral', 'joy', 'anger', 'anger', 'joy', 'sadness', 'fear', 'anger', 'sadness', 'fear', 'fear', 'sadness', 'sadness', 'neutral', 'anger', 'fear', 'neutral', 'anger', 'neutral', 'joy', 'anger', 'anger', 'neutral', 'anger', 'anger', 'fear', 'joy', 'joy', 'anger', 'sadness', 'fear', 'joy', 'anger', 'neutral', 'neutral', 'fear', 'joy', 'anger', 'neutral', 'fear', 'neutral', 'joy', 'joy', 'joy', 'anger', 'sadness', 'sadness', 'joy', 'neutral', 'neutral', 'joy', 'fear', 'anger', 'sadness', 'joy', 'sadness', 'fear', 'sadness', 'fear', 'sadness', 'sadness', 'sadness', 'joy', 'anger', 'anger', 'anger', 'anger', 'neutral', 'joy', 'anger', 'anger', 'fear', 'fear', 'neutral', 'joy', 'anger', 'joy', 'neutral', 'sadness', 'neutral', 'fear', 'anger', 'neutral', 'anger', 'sadness', 'fear', 'sadness', 'neutral', 'fear', 'neutral', 'neutral', 'neutral', 'fear', 'joy', 'joy', 'anger', 'joy', 'sadness', 'fear', 'joy', 'neutral', 'sadness', 'neutral', 'fear', 'anger', 'anger', 'fear', 'anger', 'anger', 'sadness', 'fear', 'joy', 'fear', 'neutral', 'fear', 'fear', 'neutral', 'sadness', 'sadness', 'joy', 'sadness', 'sadness', 'sadness', 'joy', 'neutral', 'anger', 'fear', 'anger', 'sadness', 'fear', 'joy', 'sadness', 'fear', 'anger', 'anger', 'anger', 'joy', 'sadness', 'anger', 'anger', 'joy', 'neutral', 'anger', 'joy', 'neutral', 'joy', 'fear', 'sadness', 'fear', 'anger', 'neutral', 'anger', 'joy', 'fear', 'fear', 'anger', 'joy', 'sadness', 'neutral', 'fear', 'joy', 'joy', 'anger', 'sadness', 'sadness', 'anger', 'joy', 'fear', 'sadness', 'anger', 'anger', 'anger', 'neutral', 'fear', 'anger', 'joy', 'fear', 'sadness', 'neutral', 'fear', 'fear', 'fear', 'joy', 'anger', 'anger', 'anger', 'sadness', 'neutral', 'sadness', 'sadness', 'anger', 'neutral', 'sadness', 'joy', 'anger', 'neutral', 'anger', 'fear', 'neutral', 'joy', 'neutral', 'joy', 'joy', 'neutral', 'neutral', 'neutral', 'sadness', 'neutral', 'joy', 'joy', 'fear', 'neutral', 'sadness', 'sadness', 'sadness', 'neutral', 'anger', 'anger', 'anger', 'fear', 'fear', 'anger', 'sadness', 'neutral', 'neutral', 'joy', 'neutral', 'joy', 'joy', 'joy', 'anger', 'neutral', 'neutral', 'fear', 'joy', 'anger', 'joy', 'anger', 'joy', 'sadness', 'neutral', 'joy', 'fear', 'joy', 'fear', 'neutral', 'fear', 'fear', 'joy', 'anger', 'joy', 'joy', 'joy', 'fear', 'neutral', 'joy', 'anger', 'neutral', 'sadness', 'sadness', 'anger', 'fear', 'anger', 'fear', 'anger', 'anger', 'fear', 'sadness', 'neutral', 'neutral', 'anger', 'fear', 'anger', 'anger', 'joy', 'neutral', 'neutral', 'anger', 'joy', 'neutral', 'sadness', 'fear', 'anger', 'fear', 'anger', 'joy', 'neutral', 'sadness', 'fear', 'anger', 'neutral', 'fear', 'fear', 'anger', 'fear', 'neutral', 'joy', 'neutral', 'anger', 'joy', 'sadness', 'fear', 'fear', 'neutral', 'neutral', 'fear', 'joy', 'neutral', 'sadness', 'joy', 'anger', 'joy', 'anger', 'joy', 'sadness', 'fear', 'sadness', 'neutral', 'sadness', 'fear', 'anger', 'neutral', 'sadness', 'neutral', 'joy', 'anger', 'sadness', 'anger', 'fear', 'neutral', 'joy', 'joy', 'anger', 'anger', 'joy', 'neutral', 'anger', 'sadness', 'sadness', 'anger', 'sadness', 'fear', 'joy', 'sadness', 'fear', 'anger', 'joy', 'fear', 'joy', 'fear', 'sadness', 'fear', 'anger', 'neutral', 'fear', 'fear', 'sadness', 'fear', 'neutral', 'fear', 'anger', 'neutral', 'joy', 'sadness', 'neutral', 'anger', 'anger', 'neutral', 'anger', 'fear', 'joy', 'joy', 'neutral', 'fear', 'neutral', 'fear', 'sadness', 'anger', 'joy', 'fear', 'joy', 'joy', 'anger', 'joy', 'fear', 'anger', 'neutral', 'anger', 'sadness', 'sadness', 'joy', 'anger', 'sadness', 'sadness', 'joy', 'anger', 'anger', 'neutral', 'neutral', 'anger', 'joy', 'neutral', 'neutral', 'fear', 'joy', 'sadness', 'fear', 'fear', 'sadness', 'neutral', 'sadness', 'anger', 'sadness', 'fear', 'joy', 'sadness', 'neutral', 'neutral', 'joy', 'joy', 'sadness', 'fear', 'sadness', 'anger', 'fear', 'fear', 'fear', 'neutral', 'joy', 'fear', 'joy', 'anger', 'joy', 'sadness', 'joy', 'joy', 'fear', 'joy', 'fear', 'fear', 'joy', 'joy', 'neutral', 'fear', 'anger', 'joy', 'anger', 'neutral', 'fear', 'anger', 'fear', 'anger', 'anger', 'fear', 'anger', 'anger', 'sadness', 'neutral', 'sadness', 'anger', 'fear', 'fear', 'joy', 'joy', 'joy', 'joy', 'fear', 'joy', 'joy', 'anger', 'fear', 'anger', 'fear', 'fear', 'anger', 'neutral', 'neutral', 'joy', 'joy', 'anger', 'neutral', 'sadness', 'sadness', 'sadness', 'sadness', 'anger', 'sadness', 'fear', 'sadness', 'fear', 'neutral', 'sadness', 'neutral', 'anger', 'neutral', 'anger', 'sadness', 'anger', 'neutral', 'sadness', 'anger', 'fear', 'neutral', 'anger', 'joy', 'neutral', 'sadness', 'fear', 'anger', 'anger', 'sadness', 'anger', 'neutral', 'fear', 'anger', 'sadness', 'neutral', 'joy', 'anger', 'sadness', 'neutral', 'joy', 'sadness', 'sadness', 'fear', 'joy', 'fear', 'anger', 'anger', 'joy', 'sadness', 'joy', 'neutral', 'sadness', 'joy', 'joy', 'neutral', 'anger', 'joy', 'joy', 'fear', 'sadness', 'sadness', 'fear', 'sadness', 'neutral', 'sadness', 'fear', 'joy', 'fear', 'neutral', 'fear', 'neutral', 'joy', 'joy', 'joy', 'joy', 'sadness', 'anger', 'joy', 'sadness', 'anger', 'joy', 'anger', 'fear', 'neutral', 'sadness', 'joy', 'joy', 'joy', 'joy', 'neutral', 'neutral', 'sadness', 'joy', 'neutral', 'neutral', 'fear', 'anger', 'fear', 'neutral', 'neutral', 'fear', 'sadness', 'joy', 'anger', 'fear', 'neutral', 'neutral', 'joy', 'sadness', 'sadness', 'neutral', 'sadness', 'neutral', 'neutral', 'sadness', 'anger', 'joy', 'neutral', 'joy', 'sadness', 'anger', 'neutral', 'joy', 'anger', 'fear', 'sadness', 'sadness', 'sadness', 'sadness', 'anger', 'sadness', 'neutral', 'joy', 'neutral', 'neutral', 'joy', 'anger', 'neutral', 'sadness', 'sadness', 'fear', 'anger', 'sadness', 'fear', 'sadness', 'anger', 'fear', 'neutral', 'neutral', 'sadness', 'sadness', 'neutral', 'anger', 'sadness', 'fear', 'neutral', 'anger', 'joy', 'fear', 'fear', 'joy', 'sadness', 'joy', 'sadness', 'fear', 'joy', 'fear', 'fear', 'neutral', 'joy', 'neutral', 'anger', 'anger', 'neutral', 'joy', 'joy', 'joy', 'anger', 'neutral', 'anger', 'anger', 'sadness', 'neutral', 'joy', 'fear', 'neutral', 'joy', 'joy', 'anger', 'sadness', 'anger', 'joy', 'anger', 'anger', 'joy', 'sadness', 'joy', 'joy', 'joy', 'neutral', 'neutral', 'anger', 'joy', 'anger', 'sadness', 'joy', 'sadness', 'sadness', 'joy', 'fear', 'anger', 'joy', 'neutral', 'joy', 'anger', 'anger', 'neutral', 'anger', 'anger', 'joy', 'fear', 'joy', 'joy', 'sadness', 'anger', 'joy', 'neutral', 'fear', 'fear', 'neutral', 'neutral', 'joy', 'neutral', 'fear', 'fear', 'sadness', 'joy', 'anger', 'joy', 'anger', 'fear', 'anger', 'fear', 'joy', 'joy', 'anger', 'neutral', 'joy', 'joy', 'sadness', 'sadness', 'joy', 'sadness', 'fear', 'joy', 'sadness', 'neutral', 'anger', 'anger', 'joy', 'sadness', 'joy', 'fear', 'neutral', 'sadness', 'fear', 'joy', 'joy', 'joy', 'anger', 'joy', 'neutral', 'neutral', 'neutral', 'fear', 'fear', 'fear', 'anger', 'fear', 'fear', 'anger', 'fear', 'sadness', 'joy', 'anger', 'sadness', 'joy', 'fear', 'sadness', 'joy', 'fear', 'neutral', 'anger', 'sadness', 'anger', 'anger', 'joy', 'anger', 'neutral', 'neutral', 'fear', 'fear', 'joy', 'anger', 'sadness', 'neutral', 'fear', 'fear', 'fear', 'anger', 'fear', 'neutral', 'sadness', 'neutral', 'anger', 'sadness', 'anger', 'fear', 'joy', 'neutral', 'fear', 'anger', 'joy', 'anger', 'fear', 'fear', 'fear', 'anger', 'sadness', 'joy', 'joy', 'joy', 'fear', 'joy', 'fear', 'neutral', 'joy', 'anger', 'joy', 'sadness', 'joy', 'fear', 'sadness', 'neutral', 'neutral', 'anger', 'sadness', 'sadness', 'anger', 'fear', 'neutral', 'joy', 'sadness', 'fear', 'anger', 'anger', 'fear', 'fear', 'sadness', 'anger', 'fear', 'neutral', 'joy', 'sadness', 'joy', 'fear', 'anger', 'sadness', 'fear', 'anger', 'sadness', 'joy', 'neutral', 'neutral', 'anger', 'fear', 'anger', 'fear', 'neutral', 'joy', 'neutral', 'fear', 'neutral', 'neutral', 'neutral', 'anger', 'fear', 'joy', 'joy', 'joy', 'sadness', 'anger', 'joy', 'fear', 'sadness', 'fear', 'neutral', 'neutral', 'sadness', 'fear', 'neutral', 'joy', 'fear', 'fear', 'joy', 'anger', 'joy', 'anger', 'anger', 'neutral', 'fear', 'anger', 'joy', 'fear', 'anger', 'anger', 'anger', 'fear', 'fear', 'sadness', 'sadness', 'fear', 'sadness', 'joy', 'anger', 'joy', 'joy', 'neutral', 'anger', 'joy', 'fear', 'sadness', 'fear', 'neutral', 'anger', 'anger', 'fear', 'anger', 'fear', 'anger', 'anger', 'sadness', 'sadness', 'joy', 'anger', 'fear', 'joy', 'fear', 'fear', 'neutral', 'anger', 'anger', 'joy', 'fear', 'joy', 'neutral', 'sadness', 'joy', 'neutral', 'joy', 'neutral', 'sadness', 'joy', 'sadness', 'joy', 'fear', 'anger', 'anger', 'sadness', 'joy', 'anger', 'joy', 'neutral', 'joy', 'fear', 'joy', 'fear', 'fear', 'anger', 'joy', 'neutral', 'joy', 'fear', 'fear', 'fear', 'fear', 'neutral', 'anger', 'neutral', 'fear', 'joy', 'neutral', 'fear', 'anger', 'fear', 'fear', 'neutral', 'anger', 'fear', 'joy', 'joy', 'anger', 'sadness', 'anger', 'fear', 'fear', 'neutral', 'sadness', 'neutral', 'fear', 'joy', 'sadness', 'joy', 'sadness', 'anger', 'joy', 'anger', 'sadness', 'joy', 'anger', 'sadness', 'fear', 'anger', 'neutral', 'anger', 'anger', 'neutral', 'fear', 'fear', 'joy', 'anger', 'joy', 'anger', 'anger', 'fear', 'sadness', 'fear', 'fear', 'sadness', 'sadness', 'sadness', 'fear', 'fear', 'sadness', 'anger', 'fear', 'joy', 'neutral', 'anger', 'joy', 'sadness', 'joy', 'sadness', 'sadness', 'fear', 'joy', 'joy', 'neutral', 'anger', 'anger', 'fear', 'neutral', 'joy', 'sadness', 'sadness', 'joy', 'anger', 'sadness', 'joy', 'sadness', 'anger', 'anger', 'sadness', 'joy', 'sadness', 'anger', 'anger', 'sadness', 'fear', 'joy', 'fear', 'anger', 'anger', 'neutral', 'sadness', 'sadness', 'fear', 'sadness', 'joy', 'anger', 'joy', 'joy', 'joy', 'sadness', 'joy', 'joy', 'sadness', 'sadness', 'anger', 'neutral', 'neutral', 'anger', 'joy', 'fear', 'neutral', 'sadness', 'fear', 'fear', 'fear', 'anger', 'sadness', 'anger', 'anger', 'joy', 'anger', 'sadness', 'sadness', 'joy', 'neutral', 'anger', 'sadness', 'neutral', 'joy', 'fear', 'anger', 'anger', 'joy', 'neutral', 'joy', 'anger', 'sadness', 'joy', 'fear', 'sadness', 'joy', 'joy', 'neutral', 'joy', 'fear', 'joy', 'joy', 'fear', 'fear', 'neutral', 'anger', 'joy', 'joy', 'neutral', 'neutral', 'anger', 'anger', 'neutral', 'neutral', 'fear', 'neutral', 'joy', 'joy', 'sadness', 'sadness', 'anger', 'sadness', 'neutral', 'sadness', 'fear', 'joy', 'anger', 'anger', 'joy', 'anger', 'neutral', 'sadness', 'sadness', 'sadness', 'anger', 'neutral', 'sadness', 'neutral', 'anger', 'joy', 'joy', 'fear', 'joy', 'neutral', 'neutral', 'anger', 'anger', 'neutral', 'neutral', 'fear', 'joy', 'joy', 'sadness', 'joy', 'fear', 'neutral', 'neutral', 'neutral', 'joy', 'anger', 'joy', 'sadness', 'joy', 'sadness', 'neutral', 'neutral', 'joy', 'joy', 'anger', 'anger', 'fear', 'sadness', 'sadness', 'anger', 'sadness', 'neutral', 'neutral', 'fear', 'anger', 'anger', 'fear', 'neutral', 'joy', 'neutral', 'anger', 'anger', 'anger', 'sadness', 'neutral', 'joy', 'neutral', 'anger', 'joy', 'fear', 'anger', 'joy', 'sadness', 'joy', 'joy', 'sadness', 'sadness', 'joy', 'joy', 'neutral', 'joy', 'joy', 'sadness', 'fear', 'fear', 'sadness', 'anger', 'anger', 'anger', 'joy', 'joy', 'fear', 'fear', 'neutral', 'neutral', 'neutral', 'anger', 'anger', 'neutral', 'fear', 'sadness', 'joy', 'sadness', 'neutral', 'joy', 'fear', 'sadness', 'joy', 'joy', 'sadness', 'joy', 'anger', 'joy', 'anger', 'neutral', 'sadness', 'joy', 'anger', 'fear', 'neutral', 'sadness', 'neutral', 'sadness', 'fear', 'anger', 'fear', 'sadness', 'fear', 'neutral', 'neutral', 'sadness', 'neutral', 'sadness', 'sadness', 'anger', 'neutral', 'fear', 'neutral', 'neutral', 'anger', 'joy', 'fear', 'neutral', 'fear', 'fear', 'neutral', 'anger', 'fear', 'joy', 'sadness', 'sadness', 'sadness', 'joy', 'neutral', 'neutral', 'fear', 'fear', 'sadness', 'neutral', 'sadness', 'fear', 'anger', 'fear', 'anger', 'joy', 'anger', 'sadness', 'anger', 'fear', 'anger', 'fear', 'anger', 'fear', 'anger', 'anger', 'joy', 'anger', 'neutral', 'fear', 'joy', 'joy', 'neutral', 'joy', 'anger', 'joy', 'joy', 'neutral', 'neutral', 'sadness', 'anger', 'fear', 'sadness', 'anger', 'sadness', 'fear', 'joy', 'anger', 'anger', 'neutral', 'joy', 'joy', 'neutral', 'sadness', 'neutral', 'sadness', 'sadness', 'joy', 'sadness', 'joy', 'neutral', 'sadness', 'neutral', 'anger', 'fear', 'sadness', 'sadness', 'sadness', 'anger', 'fear', 'joy', 'neutral', 'joy', 'neutral', 'joy', 'sadness', 'anger', 'joy', 'sadness', 'sadness', 'neutral', 'neutral', 'fear', 'anger', 'fear', 'fear', 'fear', 'anger', 'sadness', 'neutral', 'joy', 'fear', 'anger', 'anger', 'joy', 'anger', 'anger', 'fear', 'anger', 'neutral', 'joy', 'fear', 'fear', 'joy', 'neutral', 'neutral', 'neutral', 'sadness', 'anger', 'neutral', 'sadness', 'fear', 'fear', 'neutral', 'joy', 'sadness', 'sadness', 'fear', 'anger', 'fear', 'neutral', 'sadness', 'sadness', 'joy', 'sadness', 'anger', 'anger', 'neutral', 'neutral', 'neutral', 'fear', 'anger', 'fear', 'neutral', 'fear', 'anger', 'neutral', 'sadness', 'joy', 'neutral', 'anger', 'sadness', 'sadness', 'fear', 'joy', 'sadness', 'neutral', 'neutral', 'sadness', 'sadness', 'neutral', 'anger', 'sadness', 'fear', 'anger', 'sadness', 'neutral', 'joy', 'sadness', 'anger', 'sadness', 'neutral', 'sadness', 'fear', 'sadness', 'neutral', 'neutral', 'sadness', 'sadness', 'fear', 'fear', 'anger', 'fear', 'neutral', 'anger', 'neutral', 'joy', 'joy', 'neutral', 'joy', 'neutral', 'fear', 'sadness', 'joy', 'sadness', 'fear', 'anger', 'joy', 'joy', 'joy', 'neutral', 'sadness', 'joy', 'anger', 'anger', 'fear', 'anger', 'fear', 'sadness', 'anger', 'neutral', 'fear', 'anger', 'neutral', 'fear', 'anger', 'anger', 'joy', 'anger', 'joy', 'anger', 'anger', 'anger', 'fear', 'anger', 'sadness', 'anger', 'joy', 'anger', 'joy', 'sadness', 'anger', 'anger', 'neutral', 'sadness', 'sadness', 'neutral', 'fear', 'sadness', 'anger', 'neutral', 'anger', 'sadness', 'neutral', 'sadness', 'joy', 'sadness', 'anger', 'anger', 'neutral', 'neutral', 'joy', 'neutral', 'joy', 'fear', 'neutral', 'anger', 'anger', 'sadness', 'anger', 'neutral', 'joy', 'neutral', 'neutral', 'anger', 'sadness', 'neutral', 'joy', 'sadness', 'anger', 'anger', 'sadness', 'sadness', 'sadness', 'neutral', 'fear', 'neutral', 'sadness', 'sadness', 'anger', 'neutral', 'sadness', 'anger', 'neutral', 'neutral', 'sadness', 'neutral', 'neutral', 'fear', 'anger', 'joy', 'fear', 'fear', 'neutral', 'neutral', 'joy', 'neutral', 'sadness', 'neutral', 'neutral', 'sadness', 'neutral', 'neutral', 'sadness', 'sadness', 'joy', 'joy', 'sadness', 'sadness', 'neutral', 'joy', 'sadness', 'joy', 'anger', 'neutral', 'sadness', 'fear', 'fear', 'joy', 'fear', 'fear', 'anger', 'anger', 'neutral', 'neutral', 'fear', 'fear', 'fear', 'fear', 'anger', 'neutral', 'anger', 'fear', 'fear', 'anger', 'anger', 'joy', 'joy', 'anger', 'neutral', 'joy', 'fear', 'fear', 'joy', 'sadness', 'sadness', 'joy', 'neutral', 'anger', 'sadness', 'sadness', 'sadness', 'fear', 'fear', 'anger', 'neutral', 'joy', 'joy', 'anger', 'sadness', 'anger', 'fear', 'sadness', 'anger', 'fear', 'joy', 'neutral', 'joy', 'neutral', 'anger', 'joy', 'sadness', 'neutral', 'neutral', 'anger', 'neutral', 'joy', 'anger', 'anger', 'neutral', 'fear', 'joy', 'neutral', 'anger', 'neutral', 'fear', 'sadness', 'fear', 'neutral', 'fear', 'anger', 'fear', 'sadness', 'fear', 'joy', 'fear', 'anger', 'neutral', 'sadness', 'anger', 'sadness', 'fear', 'neutral', 'sadness', 'neutral', 'anger', 'joy', 'sadness', 'joy', 'sadness', 'neutral', 'sadness', 'sadness', 'anger', 'joy', 'sadness', 'neutral', 'joy', 'joy', 'joy', 'sadness', 'joy', 'neutral', 'joy', 'neutral', 'sadness', 'anger', 'neutral', 'joy', 'joy', 'fear', 'anger', 'neutral', 'joy', 'fear', 'neutral', 'neutral', 'joy', 'joy', 'anger', 'joy', 'anger', 'neutral', 'fear', 'neutral', 'joy', 'sadness', 'neutral', 'joy', 'joy', 'joy', 'sadness', 'fear', 'joy', 'fear', 'joy', 'sadness', 'fear', 'joy', 'neutral', 'neutral', 'neutral', 'fear', 'sadness', 'anger', 'anger', 'sadness', 'sadness', 'anger', 'fear', 'neutral', 'neutral', 'neutral', 'anger', 'fear', 'sadness', 'sadness', 'joy', 'joy', 'fear', 'fear', 'neutral', 'sadness', 'neutral', 'sadness', 'sadness', 'fear', 'joy', 'neutral', 'sadness', 'joy', 'joy', 'anger', 'fear', 'fear', 'neutral', 'sadness', 'anger', 'neutral', 'fear', 'anger', 'joy', 'sadness', 'joy', 'neutral', 'fear', 'sadness', 'fear', 'fear', 'fear', 'neutral', 'sadness', 'neutral', 'sadness', 'sadness', 'neutral', 'anger', 'joy', 'fear', 'sadness', 'anger', 'sadness', 'neutral', 'anger', 'anger', 'fear', 'fear', 'anger', 'neutral', 'anger', 'neutral', 'joy', 'joy', 'fear', 'fear', 'joy', 'anger', 'joy', 'neutral', 'anger', 'joy', 'neutral', 'anger', 'neutral', 'joy', 'neutral', 'joy', 'fear', 'anger', 'sadness', 'joy', 'fear', 'joy', 'joy', 'sadness', 'anger', 'sadness', 'neutral', 'fear', 'anger', 'anger', 'joy', 'joy', 'sadness', 'sadness', 'joy', 'joy', 'anger', 'neutral', 'fear', 'neutral', 'fear', 'anger', 'neutral', 'joy', 'joy', 'sadness', 'joy', 'neutral', 'sadness', 'fear', 'anger', 'anger', 'neutral', 'anger', 'fear', 'sadness', 'anger', 'joy', 'anger', 'anger', 'neutral', 'anger', 'neutral', 'joy', 'neutral', 'sadness', 'fear', 'neutral', 'sadness', 'sadness', 'neutral', 'neutral', 'joy', 'neutral', 'anger', 'neutral', 'joy', 'sadness', 'joy', 'neutral', 'fear', 'sadness', 'joy', 'anger', 'fear', 'anger', 'neutral', 'sadness', 'sadness', 'neutral', 'anger', 'anger', 'joy', 'neutral', 'anger', 'fear', 'joy', 'fear', 'anger', 'joy', 'joy', 'fear', 'joy', 'neutral', 'fear', 'sadness', 'neutral', 'neutral', 'neutral', 'neutral', 'joy', 'joy', 'sadness', 'neutral', 'joy', 'anger', 'sadness', 'neutral', 'joy', 'neutral', 'anger', 'sadness', 'joy', 'fear', 'anger', 'anger', 'neutral', 'sadness', 'anger', 'neutral', 'fear', 'fear', 'joy', 'neutral', 'neutral', 'fear', 'joy', 'neutral', 'anger', 'sadness', 'joy', 'neutral', 'neutral', 'anger', 'sadness', 'fear', 'joy', 'fear', 'anger', 'joy', 'fear', 'joy', 'joy', 'neutral', 'anger', 'neutral', 'sadness', 'joy', 'joy', 'neutral', 'sadness', 'neutral', 'sadness', 'neutral', 'sadness', 'anger', 'joy', 'anger', 'neutral', 'joy', 'joy', 'joy', 'neutral', 'neutral', 'anger', 'sadness', 'sadness', 'fear', 'anger', 'anger', 'anger', 'sadness', 'sadness', 'joy', 'fear', 'anger', 'anger', 'sadness', 'fear', 'sadness', 'joy', 'sadness', 'joy', 'anger', 'joy', 'fear', 'anger', 'joy', 'joy', 'sadness', 'anger', 'neutral', 'anger', 'joy', 'sadness', 'anger', 'neutral', 'neutral', 'anger', 'neutral', 'fear', 'anger', 'sadness', 'anger', 'sadness', 'neutral', 'joy', 'fear', 'joy', 'anger', 'joy', 'fear', 'sadness', 'neutral', 'joy', 'sadness', 'anger', 'sadness', 'anger', 'fear', 'joy', 'sadness', 'joy', 'joy', 'sadness', 'neutral', 'fear', 'sadness', 'neutral', 'neutral', 'fear', 'sadness', 'fear', 'joy', 'joy', 'fear', 'neutral', 'joy', 'fear', 'sadness', 'sadness', 'joy', 'fear', 'joy', 'fear', 'fear', 'neutral', 'fear', 'sadness', 'sadness', 'neutral', 'joy', 'fear', 'fear', 'anger', 'anger', 'fear', 'sadness', 'anger', 'joy', 'fear', 'neutral', 'anger', 'joy', 'neutral', 'neutral', 'joy', 'anger', 'anger', 'anger', 'sadness', 'sadness', 'sadness', 'fear', 'anger', 'fear', 'anger', 'fear', 'anger', 'fear', 'sadness', 'anger', 'neutral', 'fear', 'joy', 'fear', 'fear', 'joy', 'fear', 'fear', 'anger', 'joy', 'joy', 'joy', 'sadness', 'sadness', 'anger', 'fear', 'fear', 'neutral', 'neutral', 'sadness', 'joy', 'joy', 'fear', 'neutral', 'fear', 'neutral', 'joy', 'anger', 'neutral', 'joy', 'joy', 'joy', 'neutral', 'anger', 'neutral', 'joy', 'fear', 'neutral', 'fear', 'sadness', 'fear', 'neutral', 'joy', 'sadness', 'joy', 'neutral', 'neutral', 'neutral', 'sadness', 'joy', 'neutral', 'joy', 'joy', 'joy', 'neutral', 'anger', 'anger', 'fear', 'joy', 'joy', 'neutral', 'fear', 'neutral', 'fear', 'anger', 'sadness', 'neutral', 'neutral', 'sadness', 'neutral', 'joy', 'joy', 'anger', 'neutral', 'neutral', 'neutral', 'fear', 'anger', 'joy', 'fear', 'fear', 'neutral', 'anger', 'anger', 'sadness', 'neutral', 'anger', 'joy', 'fear', 'sadness', 'fear', 'sadness', 'sadness', 'joy', 'fear', 'anger', 'joy', 'joy', 'neutral', 'joy', 'sadness', 'sadness', 'neutral', 'anger', 'sadness', 'joy', 'fear', 'anger', 'sadness', 'sadness', 'fear', 'sadness', 'neutral', 'fear', 'joy', 'neutral', 'sadness', 'joy', 'fear', 'fear', 'anger', 'joy', 'fear', 'neutral', 'joy', 'neutral', 'joy', 'joy', 'fear', 'sadness', 'fear', 'sadness', 'neutral', 'anger', 'joy', 'anger', 'neutral', 'anger', 'fear', 'neutral', 'neutral', 'sadness', 'sadness', 'sadness', 'anger', 'joy', 'sadness', 'neutral', 'anger', 'fear', 'sadness', 'sadness', 'joy', 'joy', 'joy', 'anger', 'joy', 'sadness', 'sadness', 'joy', 'fear', 'neutral', 'joy', 'joy', 'anger', 'joy', 'joy', 'sadness', 'joy', 'sadness', 'sadness', 'fear', 'neutral', 'fear', 'neutral', 'anger', 'neutral', 'anger', 'joy', 'anger', 'fear', 'sadness', 'neutral', 'anger', 'joy', 'fear', 'sadness', 'sadness', 'fear', 'fear', 'anger', 'neutral', 'sadness', 'fear', 'anger', 'anger', 'neutral', 'sadness', 'fear', 'fear', 'joy', 'sadness', 'neutral', 'anger', 'anger', 'anger', 'anger', 'fear', 'neutral', 'anger', 'sadness', 'anger', 'fear', 'sadness', 'joy', 'neutral', 'sadness', 'anger', 'fear', 'sadness', 'neutral', 'anger', 'anger', 'neutral', 'anger', 'neutral', 'fear', 'anger', 'neutral', 'neutral', 'sadness', 'joy', 'sadness', 'anger', 'sadness', 'anger', 'anger', 'neutral', 'neutral', 'anger', 'fear', 'fear', 'neutral', 'joy', 'sadness', 'sadness', 'neutral', 'joy', 'anger', 'sadness', 'neutral', 'fear', 'anger', 'neutral', 'joy', 'joy', 'anger', 'neutral', 'neutral', 'fear', 'anger', 'neutral', 'joy', 'fear', 'sadness', 'joy', 'joy', 'anger', 'fear', 'joy', 'sadness', 'sadness', 'joy', 'fear', 'neutral', 'neutral', 'anger', 'fear', 'neutral', 'anger', 'fear', 'sadness', 'neutral', 'sadness', 'anger', 'sadness', 'joy', 'anger', 'joy', 'sadness', 'neutral', 'joy', 'joy', 'sadness', 'fear', 'fear', 'fear', 'sadness', 'anger', 'fear', 'anger', 'neutral', 'joy', 'fear', 'joy', 'anger', 'anger', 'sadness', 'sadness', 'sadness', 'anger', 'anger', 'sadness', 'neutral', 'sadness', 'fear', 'sadness', 'anger', 'sadness', 'fear', 'neutral', 'neutral', 'sadness', 'fear', 'joy', 'anger', 'joy', 'neutral', 'joy', 'sadness', 'joy', 'neutral', 'joy', 'sadness', 'fear', 'anger', 'joy', 'fear', 'joy', 'sadness', 'sadness', 'neutral', 'joy', 'anger', 'sadness', 'fear', 'neutral', 'joy', 'anger', 'joy', 'anger', 'neutral', 'fear', 'neutral', 'anger', 'joy', 'joy', 'neutral', 'sadness', 'anger', 'fear', 'joy', 'anger', 'anger', 'anger', 'anger', 'anger', 'sadness', 'neutral', 'neutral', 'fear', 'sadness', 'neutral', 'sadness', 'anger', 'fear', 'neutral', 'joy', 'joy', 'joy', 'joy', 'joy', 'joy', 'neutral', 'fear', 'fear', 'sadness', 'sadness', 'sadness', 'anger', 'neutral', 'fear', 'joy', 'anger', 'anger', 'neutral', 'sadness', 'fear', 'anger', 'sadness', 'neutral', 'sadness', 'sadness', 'fear', 'joy', 'anger', 'fear', 'fear', 'fear', 'sadness', 'sadness', 'joy', 'anger', 'neutral', 'anger', 'neutral', 'joy', 'fear', 'neutral', 'anger', 'fear', 'anger', 'joy', 'anger', 'anger', 'joy', 'sadness', 'sadness', 'sadness', 'neutral', 'sadness', 'neutral', 'fear', 'neutral', 'joy', 'anger', 'anger', 'anger', 'neutral', 'sadness', 'joy', 'neutral', 'neutral', 'fear', 'fear', 'sadness', 'fear', 'neutral', 'neutral', 'fear', 'joy', 'fear', 'joy', 'anger', 'joy', 'fear', 'fear', 'neutral', 'neutral', 'neutral', 'joy', 'fear', 'neutral', 'anger', 'fear', 'sadness', 'sadness', 'anger', 'joy', 'joy', 'sadness', 'fear', 'anger', 'sadness', 'sadness', 'fear', 'joy', 'anger', 'fear', 'sadness', 'neutral', 'fear', 'fear', 'sadness', 'joy', 'neutral', 'fear', 'neutral', 'sadness', 'joy', 'sadness', 'anger', 'anger', 'sadness', 'fear', 'joy', 'fear', 'sadness', 'sadness', 'anger', 'anger', 'sadness', 'neutral', 'fear', 'joy', 'sadness', 'neutral', 'anger', 'anger', 'joy', 'neutral', 'sadness', 'neutral', 'anger', 'anger', 'neutral', 'neutral', 'anger', 'neutral', 'anger', 'neutral', 'neutral', 'joy', 'joy', 'joy', 'neutral', 'sadness', 'anger', 'fear', 'sadness', 'anger', 'joy', 'joy', 'fear', 'fear', 'joy', 'sadness', 'anger', 'fear', 'neutral', 'fear', 'joy', 'anger', 'anger', 'joy', 'anger', 'fear', 'fear', 'anger', 'sadness', 'sadness', 'fear', 'anger', 'joy', 'anger', 'fear', 'neutral', 'joy', 'joy', 'fear', 'sadness', 'anger', 'fear', 'anger', 'neutral', 'anger', 'joy', 'fear', 'neutral', 'fear', 'neutral', 'sadness', 'neutral', 'joy', 'joy', 'joy', 'sadness', 'sadness', 'sadness', 'fear', 'anger', 'fear', 'neutral', 'neutral', 'anger', 'joy', 'neutral', 'sadness', 'sadness', 'fear', 'sadness', 'anger', 'anger', 'sadness', 'joy', 'neutral', 'joy', 'neutral', 'neutral', 'fear', 'sadness', 'joy', 'joy', 'joy', 'neutral', 'fear', 'joy', 'joy', 'neutral', 'anger', 'joy', 'neutral', 'fear', 'neutral', 'fear', 'neutral', 'fear', 'sadness', 'fear', 'neutral', 'joy', 'sadness', 'joy', 'sadness', 'neutral', 'sadness', 'anger', 'fear', 'neutral', 'sadness', 'joy', 'fear', 'anger', 'sadness', 'joy', 'joy', 'joy', 'fear', 'anger', 'neutral', 'sadness', 'fear', 'neutral', 'anger', 'anger', 'joy', 'fear', 'anger', 'sadness', 'anger', 'anger', 'neutral', 'fear', 'fear', 'joy', 'joy', 'joy', 'neutral', 'sadness', 'fear', 'sadness', 'fear', 'neutral', 'joy', 'joy', 'anger', 'neutral', 'neutral', 'anger', 'fear', 'anger', 'anger', 'sadness', 'sadness', 'neutral', 'sadness', 'anger', 'sadness', 'joy', 'neutral', 'neutral', 'sadness', 'anger', 'fear', 'fear', 'anger', 'fear', 'sadness', 'sadness', 'sadness', 'joy', 'anger', 'fear', 'anger', 'neutral', 'neutral', 'fear', 'fear', 'joy', 'joy', 'sadness', 'fear', 'anger', 'joy', 'sadness', 'joy', 'fear', 'anger', 'sadness', 'anger', 'sadness', 'sadness', 'sadness', 'joy', 'anger', 'anger', 'anger', 'anger', 'neutral', 'neutral', 'fear', 'fear', 'joy', 'joy', 'neutral', 'joy', 'fear', 'joy', 'neutral', 'joy', 'neutral', 'neutral', 'neutral', 'fear', 'anger', 'fear', 'neutral', 'anger', 'anger', 'neutral', 'neutral', 'anger', 'sadness', 'anger', 'sadness', 'anger', 'sadness', 'sadness', 'fear', 'anger', 'fear', 'joy', 'joy', 'sadness', 'neutral', 'sadness', 'neutral', 'joy', 'fear', 'fear', 'fear', 'joy', 'joy', 'neutral', 'joy', 'joy', 'joy', 'neutral', 'sadness', 'neutral', 'anger', 'joy', 'fear', 'neutral', 'fear', 'anger', 'joy', 'neutral', 'joy', 'fear', 'sadness', 'anger', 'neutral', 'joy', 'anger', 'sadness', 'neutral', 'neutral', 'anger', 'sadness', 'joy', 'neutral', 'joy', 'neutral', 'anger', 'sadness', 'sadness', 'anger', 'sadness', 'anger', 'joy', 'joy', 'anger', 'anger', 'sadness', 'neutral', 'anger', 'neutral', 'sadness', 'sadness', 'anger', 'neutral', 'joy', 'fear', 'neutral', 'joy', 'anger', 'joy', 'sadness', 'neutral', 'anger', 'sadness', 'sadness', 'sadness', 'anger', 'joy', 'fear', 'sadness', 'neutral', 'fear', 'fear', 'neutral', 'anger', 'joy', 'sadness', 'anger', 'anger', 'sadness', 'joy', 'sadness', 'anger', 'joy', 'anger', 'anger', 'fear', 'anger', 'fear', 'joy', 'joy', 'neutral', 'joy', 'sadness', 'neutral', 'sadness', 'fear', 'fear', 'neutral', 'anger', 'joy', 'anger', 'sadness', 'anger', 'neutral', 'joy', 'neutral', 'sadness', 'fear', 'fear', 'neutral', 'sadness', 'joy', 'sadness', 'joy', 'neutral', 'fear', 'fear', 'neutral', 'neutral', 'fear', 'fear', 'fear', 'neutral', 'anger', 'joy', 'anger', 'joy', 'anger', 'sadness', 'sadness', 'fear', 'neutral', 'anger', 'fear', 'joy', 'joy', 'joy', 'fear', 'anger', 'sadness', 'neutral', 'joy', 'sadness', 'anger', 'joy', 'sadness', 'sadness', 'joy', 'joy', 'sadness', 'neutral', 'fear', 'fear', 'fear', 'anger', 'joy', 'sadness', 'joy', 'sadness', 'fear', 'joy', 'anger', 'fear', 'neutral', 'sadness', 'fear', 'sadness', 'fear', 'anger', 'fear', 'fear', 'fear', 'neutral', 'fear', 'anger', 'neutral', 'sadness', 'fear', 'sadness', 'joy', 'fear', 'anger', 'anger', 'sadness', 'sadness', 'fear', 'joy', 'neutral', 'anger', 'anger', 'joy', 'joy', 'fear', 'neutral', 'fear', 'neutral', 'joy', 'joy', 'neutral', 'anger', 'anger', 'joy', 'fear', 'anger', 'sadness', 'fear', 'joy', 'fear', 'anger', 'joy', 'sadness', 'anger', 'anger', 'fear', 'fear', 'fear', 'sadness', 'sadness', 'joy', 'anger', 'joy', 'neutral', 'joy', 'neutral', 'sadness', 'neutral', 'anger', 'sadness', 'anger', 'sadness', 'sadness', 'sadness', 'neutral', 'neutral', 'fear', 'sadness', 'neutral', 'anger', 'joy', 'anger', 'neutral', 'sadness', 'neutral', 'joy', 'anger', 'anger', 'anger', 'fear', 'anger', 'joy', 'fear', 'joy', 'sadness', 'sadness', 'anger', 'sadness', 'sadness', 'joy', 'neutral', 'joy', 'neutral', 'neutral', 'sadness', 'anger', 'sadness', 'joy', 'fear', 'neutral', 'fear', 'anger', 'fear', 'anger', 'neutral', 'fear', 'joy', 'fear', 'sadness', 'fear', 'joy', 'sadness', 'sadness', 'fear', 'sadness', 'fear', 'fear', 'joy', 'joy', 'anger', 'joy', 'fear', 'anger', 'neutral', 'neutral', 'sadness', 'joy', 'neutral', 'joy', 'sadness', 'sadness', 'anger', 'anger', 'anger', 'anger', 'sadness', 'anger', 'neutral', 'fear', 'neutral', 'anger', 'joy', 'neutral', 'anger', 'anger', 'sadness', 'neutral', 'anger', 'neutral', 'anger', 'neutral', 'sadness', 'fear', 'sadness', 'joy', 'fear', 'anger', 'sadness', 'fear', 'fear', 'joy', 'joy', 'joy', 'joy', 'anger', 'fear', 'fear', 'neutral', 'sadness', 'anger', 'sadness', 'sadness', 'sadness', 'sadness', 'neutral', 'neutral', 'joy', 'neutral', 'neutral', 'fear', 'sadness', 'sadness', 'sadness', 'joy', 'sadness', 'neutral', 'sadness', 'neutral', 'joy', 'neutral', 'joy', 'joy', 'joy', 'sadness', 'fear', 'anger', 'sadness', 'fear', 'fear', 'sadness', 'anger', 'joy', 'anger', 'neutral', 'fear', 'joy', 'fear', 'sadness', 'neutral', 'fear', 'sadness', 'joy', 'sadness', 'anger', 'anger', 'neutral', 'sadness', 'sadness', 'joy', 'joy', 'anger', 'joy', 'neutral', 'fear', 'sadness', 'neutral', 'fear', 'fear', 'sadness', 'anger', 'neutral', 'anger', 'joy', 'sadness', 'neutral', 'neutral', 'fear', 'neutral', 'neutral', 'neutral', 'sadness', 'joy', 'joy', 'sadness', 'neutral', 'fear', 'fear', 'sadness', 'joy', 'joy', 'fear', 'neutral', 'neutral', 'anger', 'neutral', 'sadness', 'sadness', 'anger', 'anger', 'neutral', 'anger', 'sadness', 'neutral', 'sadness', 'sadness', 'sadness', 'fear', 'anger', 'neutral', 'joy', 'neutral', 'sadness', 'fear', 'anger', 'anger', 'fear', 'fear', 'fear', 'fear', 'sadness', 'sadness', 'anger', 'fear', 'neutral', 'anger', 'sadness', 'anger', 'joy', 'neutral', 'joy', 'neutral', 'anger', 'joy', 'fear', 'joy', 'fear', 'anger', 'fear', 'anger', 'neutral', 'joy', 'fear', 'fear', 'neutral', 'sadness', 'neutral', 'anger', 'neutral', 'neutral', 'sadness', 'neutral', 'anger', 'fear', 'sadness', 'anger', 'fear', 'joy', 'anger', 'neutral', 'anger', 'neutral', 'sadness', 'anger', 'anger', 'sadness', 'joy', 'joy', 'anger', 'sadness', 'neutral', 'neutral', 'sadness', 'anger']\n",
            "0 Classified correctly\n",
            "1 Classified incorrectly\n"
          ]
        },
        {
          "output_type": "stream",
          "name": "stderr",
          "text": [
            "<ipython-input-19-88287c13b1a3>:5: FutureWarning: elementwise comparison failed; returning scalar instead, but in the future will perform elementwise comparison\n",
            "  correct_predictions= np.nonzero(predictions == X_train_pad)[0]\n",
            "<ipython-input-19-88287c13b1a3>:6: FutureWarning: elementwise comparison failed; returning scalar instead, but in the future will perform elementwise comparison\n",
            "  incorrect_predictions = np.nonzero(predictions != X_train_pad)[0]\n"
          ]
        }
      ]
    },
    {
      "cell_type": "markdown",
      "source": [],
      "metadata": {
        "id": "CffTEbLFiukP"
      }
    },
    {
      "cell_type": "code",
      "source": [
        "print(\"Accuracy: {:.2f}%\".format(accuracy_score(data_test.Emotion, predictions) * 100))\n",
        "print(\"\\nF1 Score: {:.2f}\".format(f1_score(data_test.Emotion, predictions, average='micro') * 100))\n"
      ],
      "metadata": {
        "colab": {
          "base_uri": "https://localhost:8080/"
        },
        "id": "-F2PD7EMqPvv",
        "outputId": "2d1125a1-cea8-4a1a-d05d-bcd661a0aa41"
      },
      "execution_count": null,
      "outputs": [
        {
          "output_type": "stream",
          "name": "stdout",
          "text": [
            "Accuracy: 76.07%\n",
            "\n",
            "F1 Score: 76.07\n"
          ]
        }
      ]
    },
    {
      "cell_type": "code",
      "source": [
        "def plot_confusion_matrix(y_true, y_pred, classes,\n",
        "                          normalize=False,\n",
        "                          title=None,\n",
        "                          cmap=plt.cm.Blues):\n",
        "    '''\n",
        "    This function prints and plots the confusion matrix.\n",
        "    Normalization can be applied by setting `normalize=True`.\n",
        "    '''\n",
        "    if not title:\n",
        "        if normalize:\n",
        "            title = 'Normalized confusion matrix'\n",
        "        else:\n",
        "            title = 'Confusion matrix, without normalization'\n",
        "\n",
        "    # Compute confusion matrix\n",
        "    cm = confusion_matrix(y_true, y_pred)\n",
        "\n",
        "    if normalize:\n",
        "        cm = cm.astype('float') / cm.sum(axis=1)[:, np.newaxis]\n",
        "\n",
        "    fig, ax = plt.subplots()\n",
        "    \n",
        "    # Set size\n",
        "    fig.set_size_inches(12.5, 7.5)\n",
        "    im = ax.imshow(cm, interpolation='nearest', cmap=cmap)\n",
        "    ax.figure.colorbar(im, ax=ax)\n",
        "    ax.grid(False)\n",
        "    \n",
        "    # We want to show all ticks...\n",
        "    ax.set(xticks=np.arange(cm.shape[1]),\n",
        "           yticks=np.arange(cm.shape[0]),\n",
        "           # ... and label them with the respective list entries\n",
        "           xticklabels=classes, yticklabels=classes,\n",
        "           title=title,\n",
        "           ylabel='True label',\n",
        "           xlabel='Predicted label')\n",
        "\n",
        "    # Rotate the tick labels and set their alignment.\n",
        "    plt.setp(ax.get_xticklabels(), rotation=45, ha=\"right\",\n",
        "             rotation_mode=\"anchor\")\n",
        "\n",
        "    # Loop over data dimensions and create text annotations.\n",
        "    fmt = '.2f' if normalize else 'd'\n",
        "    thresh = cm.max() / 2.\n",
        "    for i in range(cm.shape[0]):\n",
        "        for j in range(cm.shape[1]):\n",
        "            ax.text(j, i, format(cm[i, j], fmt),\n",
        "                    ha=\"center\", va=\"center\",\n",
        "                    color=\"white\" if cm[i, j] > thresh else \"black\")\n",
        "    fig.tight_layout()\n",
        "    return ax"
      ],
      "metadata": {
        "id": "oYUEA3g0qQIO"
      },
      "execution_count": null,
      "outputs": []
    },
    {
      "cell_type": "code",
      "source": [
        "\n",
        "print(\"\\nF1 Score: {:.2f}\".format(f1_score(data_test.Emotion, predictions, average='micro') * 100))\n",
        "\n",
        "# Plot normalized confusion matrix\n",
        "plot_confusion_matrix(data_test.Emotion, predictions, classes=sentiment_classes, normalize=True, title='Normalized confusion matrix')\n",
        "plt.show()"
      ],
      "metadata": {
        "colab": {
          "base_uri": "https://localhost:8080/",
          "height": 584
        },
        "id": "y8V2QVXLqQT4",
        "outputId": "2eb29804-76be-4c98-b1d9-da78b076147f"
      },
      "execution_count": null,
      "outputs": [
        {
          "output_type": "stream",
          "name": "stdout",
          "text": [
            "\n",
            "F1 Score: 76.07\n"
          ]
        },
        {
          "output_type": "display_data",
          "data": {
            "text/plain": [
              "<Figure size 900x540 with 2 Axes>"
            ],
            "image/png": "[encoded data removed]"
          },
          "metadata": {
            "needs_background": "light"
          }
        }
      ]
    },
    {
      "cell_type": "code",
      "source": [
        "print('Message:  {}\\nPredicted: {}'.format(X_test[4], predictions[6]))\n",
        "                                                                "
      ],
      "metadata": {
        "colab": {
          "base_uri": "https://localhost:8080/"
        },
        "id": "v4ZPqAqdqQlK",
        "outputId": "c32015d4-0235-495c-f56d-7ffe9741f71b"
      },
      "execution_count": null,
      "outputs": [
        {
          "output_type": "stream",
          "name": "stdout",
          "text": [
            "Message:  My boyfriend didn't turn up after promising that he was coming.\n",
            "Predicted: anger\n"
          ]
        }
      ]
    },
    {
      "cell_type": "code",
      "source": [
        "model.save('models/conv_net.h5')"
      ],
      "metadata": {
        "id": "AJMPYbBuqo-F"
      },
      "execution_count": null,
      "outputs": []
    },
    {
      "cell_type": "code",
      "source": [
        "predictions2= model.predict(X_train_pad, verbose=0)[:15]\n",
        "classes = np.argmax(predictions2, axis = 1)\n",
        "print(classes)"
      ],
      "metadata": {
        "colab": {
          "base_uri": "https://localhost:8080/"
        },
        "id": "t2h-8jzEtVEb",
        "outputId": "d9a8d09b-5cce-4a6c-ac07-27fd52fb021a"
      },
      "execution_count": null,
      "outputs": [
        {
          "output_type": "stream",
          "name": "stdout",
          "text": [
            "[4 3 1 1 2 3 0 2 4 3 1 3 0 2 4]\n"
          ]
        }
      ]
    },
    {
      "cell_type": "code",
      "source": [
        "correct_predictions= np.nonzero(predictions == X_train_pad)[0]\n",
        "incorrect_predictions = np.nonzero(predictions != X_train_pad)[0]\n",
        "print(len(correct_predictions),\"Classified correctly\")\n",
        "print(len(incorrect_predictions),\"Classified incorrectly\")\n"
      ],
      "metadata": {
        "id": "Gv4i6US-JTjF",
        "colab": {
          "base_uri": "https://localhost:8080/"
        },
        "outputId": "2a685d2b-0a2e-4df4-b390-aba246509563"
      },
      "execution_count": null,
      "outputs": [
        {
          "output_type": "stream",
          "name": "stdout",
          "text": [
            "0 Classified correctly\n",
            "1 Classified incorrectly\n"
          ]
        },
        {
          "output_type": "stream",
          "name": "stderr",
          "text": [
            "<ipython-input-26-84d289a2f9cd>:1: FutureWarning: elementwise comparison failed; returning scalar instead, but in the future will perform elementwise comparison\n",
            "  correct_predictions= np.nonzero(predictions == X_train_pad)[0]\n",
            "<ipython-input-26-84d289a2f9cd>:2: FutureWarning: elementwise comparison failed; returning scalar instead, but in the future will perform elementwise comparison\n",
            "  incorrect_predictions = np.nonzero(predictions != X_train_pad)[0]\n"
          ]
        }
      ]
    },
    {
      "cell_type": "code",
      "source": [
        "import joblib\n",
        "\n",
        "joblib.dump(model, \"model.pkl\")"
      ],
      "metadata": {
        "id": "Cztf-wHsQSAE",
        "colab": {
          "base_uri": "https://localhost:8080/"
        },
        "outputId": "74fb4d19-3f51-400d-842d-ca76fb024242"
      },
      "execution_count": null,
      "outputs": [
        {
          "output_type": "stream",
          "name": "stderr",
          "text": [
            "WARNING:absl:Found untraced functions such as _jit_compiled_convolution_op while saving (showing 1 of 1). These functions will not be directly callable after loading.\n"
          ]
        },
        {
          "output_type": "execute_result",
          "data": {
            "text/plain": [
              "['model.pkl']"
            ]
          },
          "metadata": {},
          "execution_count": 27
        }
      ]
    },
    {
      "cell_type": "code",
      "source": [],
      "metadata": {
        "id": "5bhN2qN64CQG"
      },
      "execution_count": null,
      "outputs": []
    }
  ]
}